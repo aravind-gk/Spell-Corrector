{
  "nbformat": 4,
  "nbformat_minor": 0,
  "metadata": {
    "colab": {
      "name": "SpellCorrecter-Aravind.ipynb",
      "provenance": [],
      "collapsed_sections": []
    },
    "kernelspec": {
      "name": "python3",
      "display_name": "Python 3"
    },
    "language_info": {
      "name": "python"
    }
  },
  "cells": [
    {
      "cell_type": "markdown",
      "metadata": {
        "id": "0PB3j1QDeIuH"
      },
      "source": [
        "**Instructions** \n",
        "\n",
        "\n",
        "* 1 hr round\n",
        "    - 10 mins: Discussion of possible approaches.\n",
        "    - 45-50 mins: Coding time.\n",
        "* You are free to use internet for the entire duration (Ideally this should be used to lookup documentations/APIs)\n"
      ]
    },
    {
      "cell_type": "markdown",
      "metadata": {
        "id": "EXwI5AOyedNo"
      },
      "source": [
        "**Problem**\n",
        "\n",
        "1. Develop a model to correct the spelling mistakes in the provided text. You cannot use existing spell-checking libraries.\n",
        "2. Write code to produce an evaluation metric to measure the performance of the model "
      ]
    },
    {
      "cell_type": "markdown",
      "metadata": {
        "id": "9CYOs1cBm5Op"
      },
      "source": [
        "**1. Downloading dataset**\n",
        "\n"
      ]
    },
    {
      "cell_type": "code",
      "metadata": {
        "colab": {
          "base_uri": "https://localhost:8080/"
        },
        "id": "fJ-h599zlmv3",
        "outputId": "6c09cb9d-32dd-4cea-d6b0-42be2739c50b"
      },
      "source": [
        "def get_data():\n",
        "  !gdown https://drive.google.com/uc?id=1OB5AQ6i0CQ69jbp0iQa9EJ5nu4FkbeU2\n",
        "  import zipfile\n",
        "  with zipfile.ZipFile('data.zip', 'r') as zip_ref:\n",
        "      zip_ref.extractall('.')\n",
        "\n",
        "get_data()"
      ],
      "execution_count": 1,
      "outputs": [
        {
          "output_type": "stream",
          "name": "stdout",
          "text": [
            "Downloading...\n",
            "From: https://drive.google.com/uc?id=1OB5AQ6i0CQ69jbp0iQa9EJ5nu4FkbeU2\n",
            "To: /content/data.zip\n",
            "\r  0% 0.00/217k [00:00<?, ?B/s]\r100% 217k/217k [00:00<00:00, 6.56MB/s]\n"
          ]
        }
      ]
    },
    {
      "cell_type": "code",
      "metadata": {
        "colab": {
          "base_uri": "https://localhost:8080/",
          "height": 204
        },
        "id": "Vu07gtbBlnnp",
        "outputId": "065e5453-60eb-4c29-de57-2c02114d0a35"
      },
      "source": [
        "import pandas as pd\n",
        "data = pd.read_csv(\"data/data.tsv\", sep=\"\\t\")\n",
        "data.head()"
      ],
      "execution_count": 4,
      "outputs": [
        {
          "output_type": "execute_result",
          "data": {
            "text/html": [
              "<div>\n",
              "<style scoped>\n",
              "    .dataframe tbody tr th:only-of-type {\n",
              "        vertical-align: middle;\n",
              "    }\n",
              "\n",
              "    .dataframe tbody tr th {\n",
              "        vertical-align: top;\n",
              "    }\n",
              "\n",
              "    .dataframe thead th {\n",
              "        text-align: right;\n",
              "    }\n",
              "</style>\n",
              "<table border=\"1\" class=\"dataframe\">\n",
              "  <thead>\n",
              "    <tr style=\"text-align: right;\">\n",
              "      <th></th>\n",
              "      <th>original_text</th>\n",
              "      <th>human_corrected_text</th>\n",
              "    </tr>\n",
              "  </thead>\n",
              "  <tbody>\n",
              "    <tr>\n",
              "      <th>0</th>\n",
              "      <td>I have just recieved the letter , which lets m...</td>\n",
              "      <td>I have just received the letter , which lets m...</td>\n",
              "    </tr>\n",
              "    <tr>\n",
              "      <th>1</th>\n",
              "      <td>Surprisily , there were no discounds .</td>\n",
              "      <td>Surprisingly , there were no discounts .</td>\n",
              "    </tr>\n",
              "    <tr>\n",
              "      <th>2</th>\n",
              "      <td>She just remembered it ought to be a secret , ...</td>\n",
              "      <td>She just remembered it ought to be a secret , ...</td>\n",
              "    </tr>\n",
              "    <tr>\n",
              "      <th>3</th>\n",
              "      <td>I swim really well and I am a proffesional bas...</td>\n",
              "      <td>I swim really well and I am a professional bas...</td>\n",
              "    </tr>\n",
              "    <tr>\n",
              "      <th>4</th>\n",
              "      <td>I am writting to you about the show .</td>\n",
              "      <td>I am writing to you about the show .</td>\n",
              "    </tr>\n",
              "  </tbody>\n",
              "</table>\n",
              "</div>"
            ],
            "text/plain": [
              "                                       original_text                               human_corrected_text\n",
              "0  I have just recieved the letter , which lets m...  I have just received the letter , which lets m...\n",
              "1             Surprisily , there were no discounds .           Surprisingly , there were no discounts .\n",
              "2  She just remembered it ought to be a secret , ...  She just remembered it ought to be a secret , ...\n",
              "3  I swim really well and I am a proffesional bas...  I swim really well and I am a professional bas...\n",
              "4              I am writting to you about the show .               I am writing to you about the show ."
            ]
          },
          "metadata": {},
          "execution_count": 4
        }
      ]
    },
    {
      "cell_type": "code",
      "metadata": {
        "colab": {
          "base_uri": "https://localhost:8080/"
        },
        "id": "ftHr178KmXX5",
        "outputId": "7b956528-cb78-4777-8041-245020808a0e"
      },
      "source": [
        "data.shape"
      ],
      "execution_count": 5,
      "outputs": [
        {
          "output_type": "execute_result",
          "data": {
            "text/plain": [
              "(4275, 2)"
            ]
          },
          "metadata": {},
          "execution_count": 5
        }
      ]
    },
    {
      "cell_type": "markdown",
      "metadata": {
        "id": "I_k5Lo9moO9R"
      },
      "source": [
        "**2. Spell correcter model** (20-25 mins)"
      ]
    },
    {
      "cell_type": "code",
      "metadata": {
        "id": "kxg_NhftoiDl"
      },
      "source": [
        "import numpy as np"
      ],
      "execution_count": 6,
      "outputs": []
    },
    {
      "cell_type": "code",
      "metadata": {
        "colab": {
          "base_uri": "https://localhost:8080/",
          "height": 204
        },
        "id": "BTgUgKlPqTXR",
        "outputId": "0d3a5199-d75d-4225-d4e0-bade13d8ec23"
      },
      "source": [
        "subset = data[:5]\n",
        "subset"
      ],
      "execution_count": 7,
      "outputs": [
        {
          "output_type": "execute_result",
          "data": {
            "text/html": [
              "<div>\n",
              "<style scoped>\n",
              "    .dataframe tbody tr th:only-of-type {\n",
              "        vertical-align: middle;\n",
              "    }\n",
              "\n",
              "    .dataframe tbody tr th {\n",
              "        vertical-align: top;\n",
              "    }\n",
              "\n",
              "    .dataframe thead th {\n",
              "        text-align: right;\n",
              "    }\n",
              "</style>\n",
              "<table border=\"1\" class=\"dataframe\">\n",
              "  <thead>\n",
              "    <tr style=\"text-align: right;\">\n",
              "      <th></th>\n",
              "      <th>original_text</th>\n",
              "      <th>human_corrected_text</th>\n",
              "    </tr>\n",
              "  </thead>\n",
              "  <tbody>\n",
              "    <tr>\n",
              "      <th>0</th>\n",
              "      <td>I have just recieved the letter , which lets m...</td>\n",
              "      <td>I have just received the letter , which lets m...</td>\n",
              "    </tr>\n",
              "    <tr>\n",
              "      <th>1</th>\n",
              "      <td>Surprisily , there were no discounds .</td>\n",
              "      <td>Surprisingly , there were no discounts .</td>\n",
              "    </tr>\n",
              "    <tr>\n",
              "      <th>2</th>\n",
              "      <td>She just remembered it ought to be a secret , ...</td>\n",
              "      <td>She just remembered it ought to be a secret , ...</td>\n",
              "    </tr>\n",
              "    <tr>\n",
              "      <th>3</th>\n",
              "      <td>I swim really well and I am a proffesional bas...</td>\n",
              "      <td>I swim really well and I am a professional bas...</td>\n",
              "    </tr>\n",
              "    <tr>\n",
              "      <th>4</th>\n",
              "      <td>I am writting to you about the show .</td>\n",
              "      <td>I am writing to you about the show .</td>\n",
              "    </tr>\n",
              "  </tbody>\n",
              "</table>\n",
              "</div>"
            ],
            "text/plain": [
              "                                       original_text                               human_corrected_text\n",
              "0  I have just recieved the letter , which lets m...  I have just received the letter , which lets m...\n",
              "1             Surprisily , there were no discounds .           Surprisingly , there were no discounts .\n",
              "2  She just remembered it ought to be a secret , ...  She just remembered it ought to be a secret , ...\n",
              "3  I swim really well and I am a proffesional bas...  I swim really well and I am a professional bas...\n",
              "4              I am writting to you about the show .               I am writing to you about the show ."
            ]
          },
          "metadata": {},
          "execution_count": 7
        }
      ]
    },
    {
      "cell_type": "code",
      "metadata": {
        "id": "4wExH1x2tdXV"
      },
      "source": [
        "def get_emb(word):\n",
        "    word = word.lower()\n",
        "    emb = np.zeros(26)\n",
        "    for char in word:\n",
        "        emb[ord(char) - ord('a')] += 1\n",
        "    return emb"
      ],
      "execution_count": 18,
      "outputs": []
    },
    {
      "cell_type": "code",
      "metadata": {
        "id": "nO_pWywmn_F_"
      },
      "source": [
        "english_words = dict()\n",
        "\n",
        "for sentence in subset.human_corrected_text:\n",
        "    for word in sentence.split():\n",
        "        if word.isalpha():\n",
        "            word = word.lower()\n",
        "            # convert this word to a 26x1 embedding\n",
        "            word_length = len(word)\n",
        "            embedding = np.zeros(26)\n",
        "            for char in word:\n",
        "                embedding[ord(char) - ord('a')] += 1\n",
        "\n",
        "            # normalise this word vector\n",
        "            # embedding = embedding / norm(embedding)\n",
        "\n",
        "            english_words[word] = embedding\n"
      ],
      "execution_count": 19,
      "outputs": []
    },
    {
      "cell_type": "code",
      "metadata": {
        "id": "ZcsSqy3-qbou"
      },
      "source": [
        "english_words"
      ],
      "execution_count": null,
      "outputs": []
    },
    {
      "cell_type": "code",
      "metadata": {
        "colab": {
          "base_uri": "https://localhost:8080/"
        },
        "id": "V1v2dvzJq5c1",
        "outputId": "dfb63e02-d10b-4752-ec64-a1b56d26fd83"
      },
      "source": [
        "all_words = english_words.keys()\n",
        "all_words"
      ],
      "execution_count": 21,
      "outputs": [
        {
          "output_type": "execute_result",
          "data": {
            "text/plain": [
              "dict_keys(['i', 'have', 'just', 'received', 'the', 'letter', 'which', 'lets', 'me', 'know', 'that', 'won', 'first', 'prize', 'surprisingly', 'there', 'were', 'no', 'discounts', 'she', 'remembered', 'it', 'ought', 'to', 'be', 'a', 'secret', 'and', 'became', 'really', 'embarrassed', 'swim', 'well', 'am', 'professional', 'basketball', 'player', 'writing', 'you', 'about', 'show'])"
            ]
          },
          "metadata": {},
          "execution_count": 21
        }
      ]
    },
    {
      "cell_type": "code",
      "metadata": {
        "id": "f-WsU1sIrrq9"
      },
      "source": [
        "from numpy.linalg import norm\n",
        "def cosine_sim(emb_1, emb_2):\n",
        "    sum = 0\n",
        "    for i in range(26):\n",
        "        sum += emb_1[i] * emb_2[i]\n",
        "    sum /= norm(emb_1)\n",
        "    sum /= norm(emb_2)\n",
        "    return sum"
      ],
      "execution_count": 15,
      "outputs": []
    },
    {
      "cell_type": "code",
      "metadata": {
        "colab": {
          "base_uri": "https://localhost:8080/"
        },
        "id": "QV21kfFNs0OL",
        "outputId": "e402ed5b-a1b3-4285-8d1b-1faef38fa7a4"
      },
      "source": [
        "word_you = [0., 0., 0., 0., 0., 0., 0., 0., 0., 0., 0., 0., 0., 0., 1., 0., 0., 0., 0., 0., 1., 0., 0., 0., 1., 0.]\n",
        "word_copy = word_you.copy()\n",
        "print(cosine_sim(word_you, word_copy))"
      ],
      "execution_count": 17,
      "outputs": [
        {
          "output_type": "stream",
          "name": "stdout",
          "text": [
            "1.0000000000000002\n"
          ]
        }
      ]
    },
    {
      "cell_type": "code",
      "metadata": {
        "id": "DD7HCz2euTVy"
      },
      "source": [
        ""
      ],
      "execution_count": null,
      "outputs": []
    },
    {
      "cell_type": "code",
      "metadata": {
        "colab": {
          "base_uri": "https://localhost:8080/"
        },
        "id": "QO0Di7cXrBGk",
        "outputId": "cb14f208-d30c-453b-847d-3e1410711c9a"
      },
      "source": [
        "machine_corrected_sentences = []\n",
        "\n",
        "for sentence in subset.original_text:\n",
        "    corrected_sentence = \"\"\n",
        "    for word in sentence.split():\n",
        "        if word.isalpha():\n",
        "            word = word.lower()\n",
        "\n",
        "            # check if word is in vocab\n",
        "            if word in all_words:\n",
        "                # word is correct\n",
        "                corrected_sentence += word + \" \"\n",
        "            else:\n",
        "                # there is some spelling mistake\n",
        "                best_match_word = \"\"\n",
        "                best_match_score = 0\n",
        "                for key in english_words:\n",
        "                    # here key is the correct word \n",
        "                    score = cosine_sim(get_emb(word), english_words[key])\n",
        "                    if score > best_match_score:\n",
        "                        best_match_score = score\n",
        "                        best_match_word = key\n",
        "                corrected_sentence += best_match_word + \" \"\n",
        "                print(word, ', ', best_match_word)\n",
        "    machine_corrected_sentences.append(corrected_sentence)\n"
      ],
      "execution_count": 30,
      "outputs": [
        {
          "output_type": "stream",
          "name": "stdout",
          "text": [
            "recieved ,  received\n",
            "surprisily ,  surprisingly\n",
            "discounds ,  discounts\n",
            "embarassed ,  embarrassed\n",
            "proffesional ,  professional\n",
            "writting ,  writing\n"
          ]
        }
      ]
    },
    {
      "cell_type": "code",
      "metadata": {
        "id": "0sPxx8mbxI7M"
      },
      "source": [
        "IISc"
      ],
      "execution_count": null,
      "outputs": []
    },
    {
      "cell_type": "code",
      "metadata": {
        "id": "qsxw5o0dwD4H"
      },
      "source": [
        "omg "
      ],
      "execution_count": null,
      "outputs": []
    },
    {
      "cell_type": "code",
      "metadata": {
        "id": "FwE_NrunvykL"
      },
      "source": [
        "train vs trial "
      ],
      "execution_count": null,
      "outputs": []
    },
    {
      "cell_type": "code",
      "metadata": {
        "colab": {
          "base_uri": "https://localhost:8080/"
        },
        "id": "9SJI8H3RursF",
        "outputId": "172cd8eb-15f6-4da8-9597-d98e66cb1b20"
      },
      "source": [
        "machine_corrected_sentences"
      ],
      "execution_count": 31,
      "outputs": [
        {
          "output_type": "execute_result",
          "data": {
            "text/plain": [
              "['i have just received the letter which lets me know that i have won the first prize ',\n",
              " 'surprisingly there were no discounts ',\n",
              " 'she just remembered it ought to be a secret and she became really embarrassed ',\n",
              " 'i swim really well and i am a professional basketball player ',\n",
              " 'i am writing to you about the show ']"
            ]
          },
          "metadata": {},
          "execution_count": 31
        }
      ]
    },
    {
      "cell_type": "code",
      "metadata": {
        "colab": {
          "base_uri": "https://localhost:8080/",
          "height": 37
        },
        "id": "NxlMoSjiuuWJ",
        "outputId": "491640c1-fa16-47d5-dabd-079a17cc6e3c"
      },
      "source": [
        "subset.original_text[0]"
      ],
      "execution_count": 27,
      "outputs": [
        {
          "output_type": "execute_result",
          "data": {
            "application/vnd.google.colaboratory.intrinsic+json": {
              "type": "string"
            },
            "text/plain": [
              "'I have just recieved the letter , which lets me know that I have won the first prize .'"
            ]
          },
          "metadata": {},
          "execution_count": 27
        }
      ]
    },
    {
      "cell_type": "code",
      "metadata": {
        "id": "2sAUpp0xejN0"
      },
      "source": [
        "def correct_the_spellings(original_sentence):\n",
        "    \"\"\"\n",
        "    inputs: \n",
        "        original_sentence: sentence with misspelt words. eg. 'I have just recieved the letter'\n",
        "    output: \n",
        "        machine_corrected_sentence: sentence with spellings corrected by proposed model. eg. 'I have just received the letter'\n",
        "    \"\"\"\n",
        "    \n",
        "\n",
        "    \n",
        "    #TODO\n",
        "    \n",
        "    pass"
      ],
      "execution_count": null,
      "outputs": []
    },
    {
      "cell_type": "code",
      "metadata": {
        "id": "W9taHGXccm0b"
      },
      "source": [
        "correct_the_spellings('I have just recieved the letter')"
      ],
      "execution_count": null,
      "outputs": []
    },
    {
      "cell_type": "code",
      "metadata": {
        "id": "aR_stbOchd0a"
      },
      "source": [
        "# Get corrections for first 5 sentences\n",
        "\n",
        "machine_corrected_text = []\n",
        "\n",
        "for original_sentence in data['original_text'].values[0:5]:\n",
        "  machine_corrected_text.append(correct_the_spellings(original_sentence))\n",
        "\n",
        "print(machine_corrected_text)"
      ],
      "execution_count": null,
      "outputs": []
    },
    {
      "cell_type": "code",
      "metadata": {
        "id": "wNlOUvZ3heL9"
      },
      "source": [
        ""
      ],
      "execution_count": null,
      "outputs": []
    },
    {
      "cell_type": "markdown",
      "metadata": {
        "id": "UNbSc0ZqoUxV"
      },
      "source": [
        "**3. Model performance** (5-10 mins)"
      ]
    },
    {
      "cell_type": "code",
      "metadata": {
        "id": "gnVCOwYKernq"
      },
      "source": [
        "def evaluate_corrections(original_text, human_corrected_text, machine_corrected_text):\n",
        "    \"\"\"\n",
        "    inputs: \n",
        "        original_text: list of sentences with misspelt words. \n",
        "                       eg. ['I have just recieved the letter', 'how aer you']\n",
        "        human_corrected_text: list of sentences from original_text with correct spellings for each word. \n",
        "                       eg. ['I have just received the letter', 'how are you']\n",
        "        machine_corrected_text: list of sentences from original_text with spellings corrected by proposed model\n",
        "                       eg. ['I have just recieved the leter', 'how are you']\n",
        "    output: \n",
        "        evaluation_score, which could be used to compare different correction models\n",
        "    \"\"\"\n",
        "    \n",
        "    #TODO\n",
        "    \n",
        "    pass\n",
        "    "
      ],
      "execution_count": null,
      "outputs": []
    },
    {
      "cell_type": "code",
      "metadata": {
        "id": "WeTkuBTmhfJ3"
      },
      "source": [
        "# Get evaluation score over first 5 sentences\n",
        "\n",
        "evaluate_corrections(data['original_text'].values[0:5], data['human_corrected_text'].values[0:5], machine_corrected_text)"
      ],
      "execution_count": null,
      "outputs": []
    },
    {
      "cell_type": "code",
      "metadata": {
        "id": "9Ej1EJlzhfeq"
      },
      "source": [
        ""
      ],
      "execution_count": null,
      "outputs": []
    },
    {
      "cell_type": "markdown",
      "metadata": {
        "id": "kswJvqxOtCfl"
      },
      "source": [
        "**4. Model improvements** (If time permits)"
      ]
    },
    {
      "cell_type": "code",
      "metadata": {
        "id": "0iO55U4ftHfl"
      },
      "source": [
        ""
      ],
      "execution_count": null,
      "outputs": []
    }
  ]
}